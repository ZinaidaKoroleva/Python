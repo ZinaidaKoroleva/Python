{
 "cells": [
  {
   "cell_type": "code",
   "execution_count": 1,
   "metadata": {},
   "outputs": [],
   "source": [
    "import math\n",
    "from sympy import *\n",
    "from sympy.plotting import plot\n",
    "x = symbols('x')\n",
    "y = 5*x**2 + 10*x - 30"
   ]
  },
  {
   "cell_type": "code",
   "execution_count": 2,
   "metadata": {},
   "outputs": [
    {
     "name": "stdout",
     "output_type": "stream",
     "text": [
      "[-1 + sqrt(7), -sqrt(7) - 1]\n",
      "-1 + sqrt(7) -sqrt(7) - 1\n"
     ]
    }
   ],
   "source": [
    "#корни\n",
    "print(solve(y))\n",
    "sqrt1,sqrt2 = solve(y)\n",
    "print(sqrt1,sqrt2)"
   ]
  },
  {
   "cell_type": "code",
   "execution_count": 3,
   "metadata": {},
   "outputs": [
    {
     "name": "stdout",
     "output_type": "stream",
     "text": [
      "((x < oo) & (-1 + sqrt(7) < x)) | ((-oo < x) & (x < -sqrt(7) - 1))\n"
     ]
    }
   ],
   "source": [
    "#Интервалы,на которых функция возрастает\n",
    "fx = diff(y)\n",
    "print(solve(y>0))"
   ]
  },
  {
   "cell_type": "code",
   "execution_count": 4,
   "metadata": {},
   "outputs": [
    {
     "name": "stdout",
     "output_type": "stream",
     "text": [
      "   2200 |                                                      .\n",
      "        |                                                       \n",
      "        |                                                     . \n",
      "        |                                                    /  \n",
      "        |\\                                                  .   \n",
      "        | \\                                                     \n",
      "        |  .                                               .    \n",
      "        |                                                 /     \n",
      "        |   .                                            /      \n",
      "        |    \\                                          /       \n",
      "   1100 |-----\\----------------------------------------/--------\n",
      "        |      \\                                      /         \n",
      "        |       \\                                    /          \n",
      "        |        ..                                 /           \n",
      "        |          \\                              ..            \n",
      "        |           \\                            /              \n",
      "        |            ..                         /               \n",
      "        |              ..                     ..                \n",
      "        |                ..                 ..                  \n",
      "        |                  ..            ...                    \n",
      "      0 |_______________________________________________________\n",
      "         -20                        0                          20\n"
     ]
    }
   ],
   "source": [
    "#Построить график\n",
    "p = plot(y, (x,-20,20))"
   ]
  },
  {
   "cell_type": "code",
   "execution_count": 5,
   "metadata": {},
   "outputs": [
    {
     "name": "stdout",
     "output_type": "stream",
     "text": [
      "[-1 + sqrt(7), -sqrt(7) - 1]\n"
     ]
    }
   ],
   "source": [
    "#Вычислить вершину\n",
    "print(solve(y))"
   ]
  },
  {
   "cell_type": "code",
   "execution_count": 6,
   "metadata": {},
   "outputs": [
    {
     "name": "stdout",
     "output_type": "stream",
     "text": [
      "((x < oo) & (-1 + sqrt(7) < x)) | ((-oo < x) & (x < -sqrt(7) - 1))\n"
     ]
    }
   ],
   "source": [
    "# Определить промежутки,на которых F>0\n",
    "print(solve(y>0))"
   ]
  }
 ],
 "metadata": {
  "kernelspec": {
   "display_name": "Python 3",
   "language": "python",
   "name": "python3"
  },
  "language_info": {
   "codemirror_mode": {
    "name": "ipython",
    "version": 3
   },
   "file_extension": ".py",
   "mimetype": "text/x-python",
   "name": "python",
   "nbconvert_exporter": "python",
   "pygments_lexer": "ipython3",
   "version": "3.9.13"
  },
  "orig_nbformat": 4,
  "vscode": {
   "interpreter": {
    "hash": "2dbe3311fdce7ad8525664dc7271a92610ff7c6eec6cf7f8cf6be015db1f1d6e"
   }
  }
 },
 "nbformat": 4,
 "nbformat_minor": 2
}
